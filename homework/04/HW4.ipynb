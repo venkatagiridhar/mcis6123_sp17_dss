{
 "cells": [
  {
   "cell_type": "markdown",
   "metadata": {},
   "source": [
    "# Decision Support Systems / Homework 4"
   ]
  },
  {
   "cell_type": "markdown",
   "metadata": {},
   "source": [
    "__This assignment is worth up to 10 POINTS to your grade total if you complete it on time.  Late assignments will lose 15%.__\n",
    "\n",
    "\n",
    "| Points <br/>Possible | Due <br/>Date | Time Commitment <br/>(estimated) |\n",
    "|:---------------:|:--------:|:---------------:|\n",
    "| 10 | Friday, Apr. 28 @ Midnight| less than 2 hours   |\n",
    "\n",
    "* **GRADING:** Grading will be aligned with the completeness of the objectives.\n",
    "\n",
    "* **INDEPENDENT WORK:** Copying, cheating, plagiarism  and academic dishonesty _are not tolerated_ by Univerisity or course policy.  Please see the syllabus for the full departmental and University statement on the academic code of honor."
   ]
  },
  {
   "cell_type": "markdown",
   "metadata": {},
   "source": [
    "## OBJECTIVES \n",
    "* understand real-world BI scenarios at the architectural layer\n",
    "* understand prescriptive analytics in the real world, extending our discussions in class"
   ]
  },
  {
   "cell_type": "markdown",
   "metadata": {},
   "source": [
    "## WHAT TO TURN IN\n",
    "\n",
    "You are being encouraged to turn the assignment in using the provided Jupyter Notebook.  To do so, clone [the course repository](https://git.io/vM0PE) and modify the `Homework0.ipynb` file in the `homework/00` directory.  If you do not know how to do this, please ask, or visit one of the many tutorials out there on the basics of using Github and cloning repositories.\n",
    "\n",
    "Turn in a copy of a `.ipynb` file, a PDF or Word Document to Blackboard with the answers to the questions labeled with the &#167; sign."
   ]
  },
  {
   "cell_type": "markdown",
   "metadata": {},
   "source": [
    "## PART 1\n",
    "\n",
    "**Each question is worth 2 points for a total of 10 points.**\n",
    "\n",
    "You will be listening to a podcast this time titled **_Why is prescriptive analytics essential for businesses?_** (Feb 01, 2017) from the IBM Analytics Insights Podcast on [IBM Big Data Hub](http://www.ibmbigdatahub.com). Ferenc Katai of IBM will be talking about his thoughts about prescriptive analytics in business today.  You can find the podcast from a number of sources below:\n",
    "\n",
    "\n",
    "<img src=\"assets/1200x630bb.jpg\" width=\"320\"/>\n",
    "\n",
    "* [iTunes | IBM Analytics Insights](https://itunes.apple.com/us/podcast/ibm-analytics-insights-podcasts/id605818735?mt=2)\n",
    "* [Stitcher.com | IBM Analytics Insights](http://www.stitcher.com/podcast/ibm-analytics-insights/e/why-is-prescriptive-analytics-essential-for-businesses-49006961)\n",
    "* [player.fm | IBM Analytics Insights](https://player.fm/series/ibm-analytics-insights-podcasts/why-is-prescriptive-analytics-essential-for-businesses)\n",
    "\n",
    "The podcast is 0h:26m:27s in length."
   ]
  },
  {
   "cell_type": "markdown",
   "metadata": {},
   "source": [
    "&#167; **Question 1.1:** According to Ferenc, which algorithm was discovered during WWII and what was it used for?\n",
    "\n",
    "&#167; **Question 1.2:** Ferenc mentioned two paradigms for modeling, math was one of them, which was the other? \n",
    "\n",
    "&#167; **Question 1.3:** Given these two paradigms, which (according to Ferenc's comments) is best suited for systems that are changing more rapidly?\n",
    "\n",
    "&#167; **Question 1.4:** List at least one use case / industry mentioned by Ferenc in the middle of his interview that is heavily using optimization algorithms and prescriptive analytics?\n",
    "\n",
    "&#167; **Question 1.5:** Eventhough this is a mature area of business analytics, it is still growing.  Toward the end of the interview Ferenc mentions an important direction IBM is taking (among the other players in the area)?  What is this direction? "
   ]
  }
 ],
 "metadata": {
  "anaconda-cloud": {},
  "kernelspec": {
   "display_name": "Python [conda root]",
   "language": "python",
   "name": "conda-root-py"
  },
  "language_info": {
   "codemirror_mode": {
    "name": "ipython",
    "version": 3
   },
   "file_extension": ".py",
   "mimetype": "text/x-python",
   "name": "python",
   "nbconvert_exporter": "python",
   "pygments_lexer": "ipython3",
   "version": "3.5.2"
  }
 },
 "nbformat": 4,
 "nbformat_minor": 0
}
