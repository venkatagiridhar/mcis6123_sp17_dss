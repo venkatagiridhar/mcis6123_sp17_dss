{
 "cells": [
  {
   "cell_type": "markdown",
   "metadata": {},
   "source": [
    "# Decision Support Systems / Homework 3"
   ]
  },
  {
   "cell_type": "markdown",
   "metadata": {},
   "source": [
    "__This assignment is worth up to 20 POINTS to your grade total if you complete it on time.  Late assignments will lose 15%.__\n",
    "\n",
    "\n",
    "| Points <br/>Possible | Due <br/>Date | Time Commitment <br/>(estimated) |\n",
    "|:---------------:|:--------:|:---------------:|\n",
    "| 20  | **Thursday, Apr. 20 @ Midnight**| less than 5 hours  |\n",
    "\n",
    "* **GRADING:** Grading will be aligned with the completeness of the objectives.\n",
    "\n",
    "* **INDEPENDENT WORK:** Copying, cheating, plagiarism  and academic dishonesty _are not tolerated_ by University or course policy.  Please see the syllabus for the full departmental and University statement on the academic code of honor."
   ]
  },
  {
   "cell_type": "markdown",
   "metadata": {},
   "source": [
    "## OBJECTIVES \n",
    "\n",
    "* understand real-world BI scenarios at the architectural layer\n",
    "* use Bayes rule\n"
   ]
  },
  {
   "cell_type": "markdown",
   "metadata": {},
   "source": [
    "## WHAT TO TURN IN\n",
    "\n",
    "You are being encouraged to turn the assignment in using the provided Jupyter Notebook.  To do so, clone [the course repository](https://git.io/vM0PE) and modify the `HW3.ipynb` file in the `homework/03` directory.  If you do not know how to do this, please ask, or visit one of the many tutorials out there on the basics of using Github and cloning repositories.\n",
    "\n",
    "Turn in a copy of a `.ipynb` file, a PDF or Word Document to Blackboard with the answers to the questions labeled with the &#167; sign."
   ]
  },
  {
   "cell_type": "markdown",
   "metadata": {},
   "source": [
    "## RESOURCES\n",
    "\n",
    "* Lecture 6 notes [in Github](../lecture_notes/lecture06/lecture06.ipynb) or [NBViewer](http://nbviewer.jupyter.org/github/kmsaumcis/mcis6123_sp17_dss/blob/master/lecture_notes/lecture_06/lecture06.ipynb) (recommended)"
   ]
  },
  {
   "cell_type": "markdown",
   "metadata": {},
   "source": [
    "## Part 1\n",
    "**Each correct answer is 2 points, for a total of 10 points for this part**\n",
    "\n",
    "We will be extending our discussion with architectural components and tools in this part.\n",
    "\n",
    "Please *watch the video* and *review the slides*:"
   ]
  },
  {
   "cell_type": "markdown",
   "metadata": {},
   "source": [
    "**VIDEO**\n",
    "\n",
    "Your best option is to watch this video:\n",
    "\n",
    "* VIDEO / [AWS re:invent 2016 Conference | Fanatics: Deploying Scalable, Self-Service Business Intelligence on AWS (BDA207) by Amit Jain, Fanatics, Sr. Manager - BI Platform and Reporting](https://www.youtube.com/watch?v=kfuI0orMq1w)\n",
    "\n",
    "Or you can watch from directly below (if it renders properly):"
   ]
  },
  {
   "cell_type": "code",
   "execution_count": 1,
   "metadata": {
    "collapsed": false,
    "scrolled": true
   },
   "outputs": [
    {
     "data": {
      "image/jpeg": "[encoded data removed]",
      "text/html": [
       "\n",
       "        <iframe\n",
       "            width=\"400\"\n",
       "            height=\"300\"\n",
       "            src=\"https://www.youtube.com/embed/kfuI0orMq1w\"\n",
       "            frameborder=\"0\"\n",
       "            allowfullscreen\n",
       "        ></iframe>\n",
       "        "
      ],
      "text/plain": [
       "<IPython.lib.display.YouTubeVideo at 0x28877b8>"
      ]
     },
     "execution_count": 1,
     "metadata": {},
     "output_type": "execute_result"
    }
   ],
   "source": [
    "from IPython.display import YouTubeVideo\n",
    "YouTubeVideo(\"kfuI0orMq1w\")"
   ]
  },
  {
   "cell_type": "markdown",
   "metadata": {},
   "source": [
    "**AUDIO**\n",
    "\n",
    "If you'd like to listen to this instead of watching it:\n",
    "\n",
    "* AUDIO / [AWS re:invent 2016 Conference | Fanatics: Deploying Scalable, Self-Service Business Intelligence on AWS (BDA207) by Amit Jain, Fanatics, Sr. Manager - BI Platform and Reporting](./assets/AWS_reInvent_2016_Fanatics_Deploying_Scalable_Self-Service_Business_Intelligence_on_AWS_BDA207.mp3)"
   ]
  },
  {
   "cell_type": "markdown",
   "metadata": {},
   "source": [
    "**SLIDES**\n",
    "\n",
    "You might also like to look at the slides:\n",
    "\n",
    "* SLIDES / [AWS re:invent 2016 Conference | Fanatics: Deploying Scalable, Self-Service Business Intelligence on AWS (BDA207) by Amit Jain, Fanatics, Sr. Manager - BI Platform and Reporting](https://www.slideshare.net/AmazonWebServices/aws-reinvent-2016-fanatics-deploying-scalable-selfservice-business-intelligence-on-aws-bda207)"
   ]
  },
  {
   "cell_type": "markdown",
   "metadata": {},
   "source": [
    "To answer the questions below you will need to have listened or watched the video **in its entirety**.\n",
    "\n",
    "&#167; **Question 1.1**: About how much in revenue does Fanatic do (from the video)?  What problem were they looking trying to use AWS to solve?\n",
    "\n",
    "&#167; **Question 1.2**: What database technology was used to store transactional data and which BI tool did they connect to it?\n",
    "\n",
    "&#167; **Question 1.3**: Would you characterize their solution as enabling operational, tactical or strategic decisions?  Justify your answer with an example.\n",
    "\n",
    "&#167; **Question 1.4**: How did Fanatics control costs while at the same time address and adapt to changing customer needs?\n",
    "\n",
    "&#167; **Question 1.5**: Why were MicroStrategy security groups created for the real-time dashboard views (from the BI demo toward the end)?"
   ]
  },
  {
   "cell_type": "markdown",
   "metadata": {},
   "source": [
    "## Part 2\n",
    "**This part is worth 10 points.**\n",
    "\n",
    "In [lecture notes 6](../lecture_notes/lecture06/lecture06.ipynb) we talked about Bayesian approaches to decisions under risk, and where probabilistic knowledge (in the form of subjective probabilities) is used over the states of nature.  Recall also Bayes Theorem:\n",
    "\n",
    "$$\n",
    "P(A\\big|B) = {{P(A)P(B\\big|A)} \\over {P(B)}}\n",
    "$$\n",
    "\n",
    "**SCENARIO**\n",
    "The local city planner is trying to determine whether a new park should be put near the recently developed Bluelake neighborhood, which is in a mostly undeveloped part of the city.  The city planner and community board would like to stimulate and attract new neighborhoods, businesses and economic activity in that part of town.  \n",
    "\n",
    "If they put a park in this would attract new developments but as with all these things, development is highly sensitive to economic conditions.  The planner and the board have some ideas about how the economy will go in the next few years.\n",
    "\n",
    "They believe there will be 3 possible economic states over the next few years:\n",
    "\n",
    "* the economy will grow, or $A$ for short\n",
    "* the economy will be flat or $B$\n",
    "* the economy will go down or $C$ \n",
    "\n",
    "They believe that there is a $0.60$ probability of $A$, a $0.30$ probability of $B$ and a $0.10$ probability of $C$.\n",
    "\n",
    "If they put the park in they feel the economic payoff to the city will be $75$ (in millions) under $A$, $15$ if the economy is flat and $-5$ if the economy goes down.\n",
    "\n",
    "&#167; **Question 2.1** (2 points): Build the payoff table for the above scenario.  You can put the probabilities for each state of nature in parenthesis next to the state (e.g. $A (0.30)$).\n",
    "\n",
    "**EXTENDING THE SCENARIO**\n",
    "Now the community planner and board do not feel confident about their numbers.  They are considering hiring a consulting firm CrystalBallEconomics (CBE) to help them do a more detailed analysis of the park installation decision.\n",
    "\n",
    "In the past CrystalBallEconomics has correctly predicted the economy with probabilities given by the table below.  In the row you have the CBE prediction for the economy and in the column you have the actual state of the economy.  Thus, the cell $(A,{CBE}_A)$ represents the $Pr(\\mathrm{CBE}_{A}\\big|A)$ or stated in English, _\"the probability that CBE predicts high economic growth (economic state A) **given** the economy actually grew (state A)\"_.\n",
    "\n",
    "| -- | $A$ | $B$ | $C$ |\n",
    "|:----:|-----|-----|-----|\n",
    "| ${CBE}_A$ | $0.8$ | $0.1$ | $0.1$ | \n",
    "| ${CBE}_B$ | $0.1$ | $0.9$ | $0.0$ | \n",
    "| ${CBE}_C$ | $0.1$ | $0.0$ | $0.9$ | \n",
    "\n",
    "\n",
    "&#167; **Question 2.2** (6 points) Since the community planner needs to actually understand the probability of the economic state given the prediction (as a proxy for how accurate they actually were) use Bayes rule to compute the following:\n",
    "\n",
    "* $Pr(A\\big|{CBE}_A)$\n",
    "* $Pr(B\\big|{CBE}_A)$\n",
    "* $Pr(C\\big|{CBE}_A)$\n",
    "* $Pr(A\\big|{CBE}_C)$\n",
    "* $Pr(B\\big|{CBE}_C)$\n",
    "* $Pr(C\\big|{CBE}_C)$\n",
    "\n",
    "&#167; **Question 2.3** (2 points) Though in Q2.2 we didn't compute the probabilities for the flat economic scenario $B$, looking at the economy  probabilities that you did compute ($A$ and $C$, economic growth and decline), would you decide to pay the firm to do a complete evaluation?"
   ]
  }
 ],
 "metadata": {
  "anaconda-cloud": {},
  "kernelspec": {
   "display_name": "Python [conda root]",
   "language": "python",
   "name": "conda-root-py"
  },
  "language_info": {
   "codemirror_mode": {
    "name": "ipython",
    "version": 2
   },
   "file_extension": ".py",
   "mimetype": "text/x-python",
   "name": "python",
   "nbconvert_exporter": "python",
   "pygments_lexer": "ipython2",
   "version": "2.7.12"
  },
  "toc": {
   "nav_menu": {
    "height": "139px",
    "width": "251px"
   },
   "navigate_menu": true,
   "number_sections": false,
   "sideBar": true,
   "threshold": 4,
   "toc_cell": false,
   "toc_section_display": "block",
   "toc_window_display": false
  }
 },
 "nbformat": 4,
 "nbformat_minor": 0
}
