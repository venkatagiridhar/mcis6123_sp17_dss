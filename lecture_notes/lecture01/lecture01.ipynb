{
 "cells": [
  {
   "cell_type": "markdown",
   "metadata": {},
   "source": [
    "# LECTURE 1 NOTES\n",
    "Welcome to DSS! We will be exploring a wide array of concepts from the theory of decision making to the various kinds of analytics being performed to help organizations make decisions.\n",
    "\n",
    "\n",
    "## DECISION SUPPORT SYSTEMS\n",
    "\n",
    "While decision support systems have traditionally been a topic aimed at enterprise and business decision making processes and systems, they are not restricted to such systems.  In fact, as we will learn throughout this course _data_ is a fundamental primary input to any such systems, and is certainly not restricted to business systems.  \n",
    "\n",
    "You will find throughout the course references to \"Decision Support Systems\" (DSS), \"Business Intelligence\" (BI), \"_Intelligent_ Decision Support Systems\" (iDSS) and for all intents and purposes in this course these will all loosely refer to the same things.\n",
    "\n",
    "### BUSINESS ENTERPRISE SYSTEMS\n",
    "\n",
    "From marketing campaign analysis to financial portfolio management, from business process engineering to manufacturing decision optimization, decision support systems are are the center of any well oiled enterprise.  When a company is trying to determine the demand for a specific product in a specific market, they are faced with a vast array of data upon which to make what seems to be a simple decision.  They have to understand market demographics, how those demographics impact sales of similar products, how the demographic perceives the product, etc.  All of these data can be used to make better choices on when, where and how to launch a product into a market.  Similarly, when portfolio managers need to understand the risk of a set of stocks and mutual funds in a portfolio, they have to carefully study the data around each company's performance (actual and expected), the new products they will be introducing, their profit and loss sheets, their expected growth rate, customer satisfaction, etc.  With all of these data, portfolio managers might make small changes to the mix of their holdings to take advantage or reduce the risk of possible best and worst case scenarios to the portolio. Finally, consider the vast array of concerns healthcare decision makers are confronted with when running a medical facility. For example, many decisions must be made about staffing capabilities, equipment capacity and availability, levels of particular medicine stocks, etc. Good decisions must balance the costs of running the facility while simultaneously exposing the spectrum of available choices and how those choices influence operating costs **and** show maximum healthcare impacts with optimal cost management. These are just a few examples of the way enterprises use BI to improve their business.\n",
    "\n",
    "\n",
    "### PERSONAL ANALTYICS AND INFORMATICS\n",
    "\n",
    "Today, with the help of smart devices like smart phones, smart watches, fitness trackers, etc. individuals are generating huge amounts of personal data, such as data from their daily habits and personal health (diet, sleep, exercise, etc.).  These systems are becoming increasingly important to _individual_ decision making allowing real-time, always-available analytics that allow visualization and manipulation of data to effectively act upon that data (make decisions).  From [personal productivity to reading, music to traveling](http://www.personalinformatics.org/tools/) these tools are not only changing the way we self-monitor, but also the way we learn, grow and interact with products and business we use. \n",
    "\n",
    "### THE INTERNET OF THINGS\n",
    "\n",
    "As the next wave of [big data](http://www.forbes.com/sites/lisaarthur/2013/08/15/what-is-big-data/) arrives,  everyday devices such as common household appliances (e.g. refrigerators, ovens, sinks, furnaces, etc.) will be generating huge amounts of data.\n",
    "\n",
    "> The Internet of Things, or IoT, is the integration of people, processes and technology with connectable devices and sensors to enable remote monitoring, status, manipulation and evaluation of trends of such devices.  When all these technologies and voluminous amounts of Things are interfaced together -- namely, devices/machines, supervisory controllers, cellular and the Internet, there is nothing we cannot connect to and communicate with.  What I am calling the Internet of Things will be far reaching. ~ Peter T. Lewis, 1985\n",
    "\n",
    "The \"[Internet of Things](http://www.chetansharma.com/IoT_History.htm)\" represents the next wave of distributed, context-aware, data collection devices (aka \"smart devices\") and will bring to individuals and enterprises alike yet new opportunities for decision support platforms, analytics and tools.  For example, \"smart refrigerators\" will alert thier owner (or maybe even the local mobile grocery) when the milk has reached its expiration date or when it is time to buy more eggs. Those same refrigerators will send performance status information data back to the manufacturer to alert service vendors of the need to pre-emptively replace a soon to fail component.  \n",
    "\n",
    "\n",
    "** ADDITIONAL READINGS **\n",
    "\n",
    "* -"
   ]
  },
  {
   "cell_type": "markdown",
   "metadata": {},
   "source": [
    "## ANALYTICS AND BIG DATA\n",
    "\n",
    "At the heart of a DSS is data, and we are now seeing \"big data\" fuel a vast array of [analytic platforms](https://www.ibm.com/big-data/us/en/) that are providing many different capabilities.  Take, for example, te staggering amount of data being produced by social media platforms like Twitter, Facebook, Instagram and others.  [According to some estimates](http://wersm.com/how-much-data-is-generated-every-minute-on-social-media/#prettyPhoto), every minute over 340,000 tweets are sent on Twitter, 300 hours of video uploaded on YouTube and 4.1 million posts \"liked\" on Facebook. \n",
    "\n",
    "![How Much Data Does Social Media Generate](assets/wersm-how-much-data-is-generated-every-minute-infographic.jpg)\n",
    "\n",
    "This data is being used to help businesses reach markets they never knew existed, help communities stay connected and satisfy the communication and information needs of their networks and at the same time, provide vast amounts of information to end users, often in ways that contribute actionable insights if decisions are required.  For example, during natural disasters, Twitter is often used as a public platform for short-form reporting on the localized conditions of the disaster, whereabouts of victims and specific community impacts. The information footprint of this data may be vast and rapidly changing, thus it is the job of analytics platforms to turn that data into _useful insights_ that can facilitate actionable information to responders, victims, public safety officials, news agencies, etc.  For example, systems that process tweets and provide emergency response personnel impact anaylsis of affected communities are moving out of research labs and into software systems.\n",
    "\n",
    "Though the traditional definition of big data relies on _the four V's_, **volume**, **velocity**, **variety** and **veracity**, the decision support systems that use this data to build actionable information extend these concepts in important ways.\n",
    "\n",
    "![4Vs of Big Data](assets/4-Vs-of-big-data.jpg)\n",
    "<!-- http://www.ibmbigdatahub.com/infographic/four-vs-big-data -->\n",
    "\n",
    "\n",
    "**ADDITIONAL READINGS**\n",
    "* [How does Data Analytics help Debt Collection? by Perry de Jager](http://insights.principa.co.za/how-does-data-analytics-help-debt-collection)\n",
    "\n",
    "* [See this simple introduction to Natural Language Processing (NLP)](https://simplified-analytics.blogspot.com/2017/01/see-this-simple-introduction-to-natural.html) \n",
    "\n",
    "* [Four Ways Big Data Will Change Every Business](http://www.forbes.com/sites/bernardmarr/2015/09/08/4-ways-big-data-will-change-every-business/)"
   ]
  },
  {
   "cell_type": "markdown",
   "metadata": {},
   "source": [
    "## DECISION SUPPORT SYSTEMS ARCHITECTURES\n",
    "\n",
    "DSS architectures can be segmented into three major technical components that form an architecture and platform for addressing to the _decision requirements_ of interest:\n",
    "\n",
    "* inputs and decision predicates\n",
    "* computational and algorithmic decision making tools \n",
    "* human interfaces that provide for data visualization,  manipulation and exploration, including decision alternatives\n",
    "\n",
    "![Decision Support Components see http://www.isy.vcu.edu/~jsutherl/Info360/DSS.pdf](assets/dss_components.png)\n",
    "<!-- http://www.isy.vcu.edu/~jsutherl/Info360/DSS.pdf -->\n",
    "\n",
    "### INPUTS / DECISION PREDICATES\n",
    "\n",
    "This part of the system focuses on the inputs that are fundamental to the concerns / platform / analysis / process / decision requirement(s) of interest. These inputs are typically sourced from large local or remote databases (in enterprise contexts), real-time sensor platforms that are (but not necessarily) remote, and user data inputs that may be in structured and unstructured forms.  Decision predicates are often processed by sophisticated subsystems that provide access control, data integrity checks, replication and archiving functions, and are often built on high availability enterprise systems that require advanced enterprise-grade server infrastructures and dedicated teams of Database Administrators, Data and Software Engineers and supporting management. \n",
    "\n",
    "Much of the input data for a DSS is **unstructured data**, which is common found data that may not conform to a readily machine-readable form. Examples of unstructured data include free text customer feedback, written documents such a business plan, audio recordings and even video recordings.  While this data may not seem \"unstructured\" to humans, the _metadata_ (title, author(s), date, length, word count, etc.) for such data is typically the only thing that is \"structured\" if we do not process it further. **Structured data** is data which has a formal structure and can easily be made machine-readable.  Metadata is an example of structured data, as is data in relational databases, documents in XML or JSON and other data files whose structure can be easily ascertained, deconstructed and queried.  The work of extracting information from unstructured data and converting it to structured data may often involve machine learning, for example [natural language processing](https://www.techopedia.com/definition/653/natural-language-processing-nlp) may be required to turn text into its constituent parts of speech, from which additional algorithms may be applied to determine the content of the speech.  Such efforts _often require substantial expertise and resources_,  however,  there are a number of machine learning platforms and APIs available today for enterprise-level text analytics and \"cognitive services\") (see [IBM Watson](https://developer.ibm.com/api/view/id-76:title-Watson_Developer_Cloud__Natural_Language_Classifier), [HPE](https://dev.havenondemand.com/apis), [Microsoft](http://www.microsoft.com/cognitive-services/en-us/text-analytics-api) and [Google](https://cloud.google.com/prediction/docs/)) which greatly reduce the effort to gain insights from such unstructured data.\n",
    "\n",
    "### COMPUTATIONAL DECISION TOOLS\n",
    "\n",
    "Computational decision tools are represented by the mathematical and statistical models that drive the data processing and analysis of the decision inputs. A system design may be influenced greatly by one or more of statistical decision making tools, artificial intelligence frameworks, expert systems and machine learning algorithms.  For nearly all but the most trivial decisions, computation is a requirement and as the volume and diversity of data increases, there is no doubt that computational tools will continue to play an even more important role in the future. As mentioned previously, there are a number of enterprise-level systems and APIs for processing, analyzing and integrating machine learning algorithms into the software of a DSS and increasingly, architects and analysts will be asked to explore the various options provided by vendors providing such APIs and services.\n",
    "\n",
    "Computational tools and algorithms may fall into (though not limited to) the following categories:\n",
    "\n",
    "* basic statistical tools for data summarization\n",
    "* advanced statistical tools for decision analysis, prediction and  (modeling strategies, objectives, costs, risks and benefits)  \n",
    "* optimization algorithms for decision making (e.g. linear programming)\n",
    "* artificial intelligence algorithms and expert systems for pattern recognition and complex decision making\n",
    "* data mining and statistical machine learning algorithms for pattern mining, exploratory data analysis and complex real-time decisions  \n",
    "\n",
    "### HUMAN INTERFACES\n",
    "\n",
    "Human interfaces give the data and computation an interaction layer necessary to derive value for end-users and decision makers within an organization or enterprise.  Such interfaces come in many forms, and can vary widely even within an enterprise, where multiple systems from different vendors may be used in organizational decision making processes (e.g. in-house developed dashboards for marketing information about user engagement or supply-chain management tools for manufacturing). Often, human interafaces provide the capabilities to **manipulate** data and run **what-if** scenarios so that multiple potential outcomes can be easily visualized and considered.   \n",
    "\n",
    "**Interactive infographics**, **dashboards** and **scorecards** are examples of common interfaces used in a BI systems and often relate to the descriptive analytics that we will soon learn about.  Below is an example of a dashboard showing a variety of information to the end user.\n",
    "\n",
    "![](assets/2017-01-31 06_35_02_BI_Sisense.png)\n",
    "\n",
    "**RESOURCES**\n",
    "* -"
   ]
  }
 ],
 "metadata": {
  "anaconda-cloud": {},
  "kernelspec": {
   "display_name": "Python [conda root]",
   "language": "python",
   "name": "conda-root-py"
  },
  "language_info": {
   "codemirror_mode": {
    "name": "ipython",
    "version": 2
   },
   "file_extension": ".py",
   "mimetype": "text/x-python",
   "name": "python",
   "nbconvert_exporter": "python",
   "pygments_lexer": "ipython2",
   "version": "2.7.12"
  },
  "toc": {
   "nav_menu": {
    "height": "104px",
    "width": "251px"
   },
   "navigate_menu": true,
   "number_sections": false,
   "sideBar": true,
   "threshold": 4,
   "toc_cell": false,
   "toc_section_display": "block",
   "toc_window_display": false
  }
 },
 "nbformat": 4,
 "nbformat_minor": 1
}
