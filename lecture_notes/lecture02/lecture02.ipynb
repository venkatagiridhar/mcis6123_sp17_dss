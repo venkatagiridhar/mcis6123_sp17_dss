{
 "cells": [
  {
   "cell_type": "markdown",
   "metadata": {},
   "source": [
    "# LECTURE 2 NOTES"
   ]
  },
  {
   "cell_type": "markdown",
   "metadata": {},
   "source": [
    "## Content\n",
    "* introduction to analytics: descriptive, predictive, prescriptive \n",
    "* motivating scenarios and case studies \n",
    "* how analytics are being used in real world systems\n",
    "\n",
    "## Objectives \n",
    "* understand analytics, motivation and scenarios\n",
    "* understand analytics and DSS context in which they arise\n",
    "* differentiate between and describe an example of each descriptive, predictive and prescriptive analytics"
   ]
  },
  {
   "cell_type": "markdown",
   "metadata": {},
   "source": [
    "## DSS and Business Intelligence\n",
    "\n",
    "As we move through the materials in this course, we will be confronted with a number of terms \"Decision Support Systems\", \"DSS\", \"Business Intelligence\", \"Business Analytics\", \"BI\" and \"Analytics\".  In general, DSS and BI will be considered the same thing in this course and practically, _a DSS_ is the _backbone of Business Intelligence_.  You may perhaps see the more common \"Business Intelligence\" (BI) term used today, and generally refers to the same problem and solution space as \"DSS\".  You may also see the term \"iDSS\" to refer to \"intelligent\" DSS, and again, this \"intelligent\" qualifier is often used to indicate that some artificial intelligence, machine learning or intelligent algorithm is used within the context of the DSS, but generally speaking it is assumed in today's systems that such \"intelligence\" is used by default, so don't be confused by such qualifier.  We will use BI and DSS interchangeably, so when you see either term, assume that they are one and the same for _this course_."
   ]
  },
  {
   "cell_type": "markdown",
   "metadata": {},
   "source": [
    "## Analytics\n",
    "\n",
    "Analytics plays a crucial part of the development of any DSS/BI system and refers to the capabilities provided by a system that allow for the manipulation and display of _decision predicates_, which are also the data inputs to any system.  Much of what we talk about here also belong in a discussions about algorithms and computational decision tools, in fact, as we will see \"analytics\" span all components of a DSS, from data, computation/algorithms to user interaction and visualization.\n",
    "\n",
    "The foundation of the analytics we will focus on are around three distinct dimensions or \"modalities\" that we will  familiarize ourselves with throughout the course.  They are:\n",
    "\n",
    "* descriptive analytics,\n",
    "* predictive analytics, and\n",
    "* prescriptive analytics.\n",
    "\n",
    "The It is common that most systems you will work with will provide at least descriptive analytics, while some both descriptive and predictive analytics.  While prescriptive analytics is a modality that is not yet as common, it is becoming more common as businesses are interested in forming a complete picture of what happened or what is now happening (descriptive), what might happen (predictive) and what the best thing to do next to achieve a desired outcome (prescriptive).  Prescriptive analytics might be considered the most mature and advanced of the three analytic modalities, and is sought after for its ability to _improve business outcomes_ and _enhance the value of decision making_ processes within enterprises."
   ]
  },
  {
   "cell_type": "markdown",
   "metadata": {},
   "source": [
    "The table below gives an overview of these three analytics modalities and scenarios they are often used in:\n",
    "\n",
    "| Analytics Modality | Description / Usage| Scenario |\n",
    "|:-----------------:|-------------|----------|\n",
    "| **Descriptive**       | primarily concerned with painting a picture of the past or present situation; answers  questions about  _what happened in the past (recent or distant)?_ or _what is happening right now?_ | A company wants to understand their customer base better to form an idea of the kinds of customers they have grouped by product type. |   \n",
    "| **Predictive**        | provides the ability to develop insights into future states by _predicting_ what will likely happen using past data | A company wants to project revenue forecasts for the next year based on current sales to present growth estimates to investors. |   \n",
    "| **Prescriptive**      | using as much data as possible and analyses from both descriptive and predictive analyses to explore various scenarios and outcomes, suggestions are made to _optimize_ decision outcomes | A company wants decide which of three types of products to sell into a specific geographic market to maximize sales. |   \n",
    "\n",
    "Now that we have a basic idea of the various analyses we might like to perform, let's dig into their details."
   ]
  },
  {
   "cell_type": "markdown",
   "metadata": {},
   "source": [
    "### DESCRIPTIVE ANALYTICS\n",
    "\n",
    "_Descriptive analytics_ refer to the processing of decision predicates (data) to detail the state of _what has happened_ or _what is currently happening_.  For example, to understand the effectiveness of a marketing campaign it is necessary to get a historical view of sales, including the various market segments that had participated in the campaign, etc.  Descriptive analytics are effective at showing such data precisely.  You may already be familiar with descriptive analytics (and perhaps not even know it), because many interactive dashboards and visualizations display such descriptive data.  When you log into your bank account and ask for a report of the spending categories of your transactions over a month, or over a year, you will be viewing the descriptive \"analytics\" of such transactions.  If being presented _strictly_ as a part of descriptive profile, you are not likely to receive any unsolicited advice about your future spending or gain any tips on how to allocate your money better next month or next year, but nonetheless you will obtain useful snapshots of your \"past behavior\" (and that is often valuable enough information). As we will see, descriptive analytics are commonly the first type of analytics designed into the human interaction / visualization component of a DSS, and often in the form of _dashboards_ and _infographics_.  \n",
    "\n",
    "**Dashboards** are detailed displays of descriptive analytics that provide various levels of data visualization and interaction. They often provide interaction that allows data to be manipulated to show various views, perspectives and filters of the same data.  Sales dashboards, for example, are used to help sales engineers visualize current sales, perhaps allowing views of sales by geographic region, demographic profile, time scale (e.g. aggregated by day, week, month, quarter) or product type.  Such a dashboard might let the engineer select and combine any or all of such attributes of the data, thus exploiting the full capabilities of the data during an exploratory analysis.\n",
    "\n",
    "![](./assets/tableau_exec_dashboard_example01.jpg) <!-- https://public.tableau.com/shared/Z4B8GH85D?:display_count=no -->\n",
    "\n",
    "\n",
    "**Infographics** are often used hand in hand with dashboards to provide highlights and snapshots that emphasize certain data, and are often used in customer or facing scenarios or in marketing. While commonly associated with static media (paper, brochures, posters), infographics are becoming more immersive, dynamic and interactive where the lines between dashboards and infographics are now blurring.\n",
    "\n",
    "![](./assets/tableau_beatles_infoviz_example01.PNG) <!-- https://public.tableau.com/shared/JBT5B6578?:display_count=yes&:showVizHome=no -->\n",
    "\n",
    "\n",
    "**Decision predicates** or **data inputs** flow into descriptive analytics from a variety of sources.  One common source of data are _enterprise databases_ where large amounts of diverse data, including user account information, vendor data, product and manufacturing data, among many others, may be used, for example,  to perform cluster analyses or other pattern explorations.  Other data sources might include _real-time logs_ of user activity (e.g. on a website or within an application) where an activity dashboard might present the individual or aggregate behavior of end users.  Not all data needs to be as voluminous as those often found in enterprise databases -- user generated sources, such as customer satisfaction and feedback surveys are also common sources of data.  \n",
    "\n",
    "**ADDITIONAL RESOURCES**\n",
    "\n",
    "* [Tableau Software](http://tableau.com)\n",
    "<!-- ![]()  dashboard demp -->"
   ]
  },
  {
   "cell_type": "markdown",
   "metadata": {},
   "source": [
    "### PREDICTIVE ANALYTICS\n",
    "\n",
    "Contrast descriptive analytics with _predictive analytics_ where decision predicates are used to build models of **future** states.  For example, when giving personal loans to individual borrowers, banks have to understand the full extent of the risks they  may be exposed to with a given borrower. They have to first look at the **descriptive** profile of a borrower -- that is what is the borrower's historical behavior with other lenders.  Does the borrower have a strong on-time payment history?  Have they been successful at paying back previous loans?  Do they have a tendency to borrow money only when they need it (emergencies, home repairs, etc.)? Have they had a borrowing history for leisure and non-essential expenditures (vacations, cars, expensive electronics, etc.)? Have they had a borrowing history involving legal expenses (law suits, divorce, etc.)?  \n",
    "\n",
    "Though these types of descriptive analytics might give the lender a detailed view of historical behavior, they do not provide tools for understanding future behavior.  With _predictive analytics_ historical data derived from descriptive analytics are used to take a significant step further to _make inferences and predictions about the future_.  Predictive analytics tools fall squarely within the _computational decision aids_ component capabilities of a DSS and as we will see, may employ a number of sophisticated algorithms and statistical tools upon which to build often highly accurate and reliable models of future behavior and states of events. Though making predictions is the ultimate goal of predictive analytics, visualizing these predictions is perhaps even more important.  Seeing the outcome of predicted events and visualizing the scenarios and _impact_ such events have on other variables, can help the lender in our prior example see what the projected future state of a borrower's financial profile might be.  For example, it might help the lender choose the appropriate loan limit by predicting how a borrowers projected spending behavior will change with respect to how their income is likely to increase given the borrower's occupation.\n",
    "\n",
    "<!--\n",
    "#### CASE STUDY: Lending Analytics\n",
    "> How are predictive analytics used in bank lending?\n",
    "-->\n",
    "\n",
    "\n",
    "**ADDITIONAL RESOURCES**\n",
    "\n",
    "* [Consumer Lending Analytics](https://www.nonprime101.com/consumer-lending-analytics/): How analytics are used in consumer lending.\n",
    "* [Machine Learning and Predictive Analytics Foster Growth / Programmable Web / Feb. 2014](https://www.programmableweb.com/news/machine-learning-and-predictive-analytics-foster-growth/2014/02/21): APIs and services fueling the broader predictive analytics movement."
   ]
  },
  {
   "cell_type": "markdown",
   "metadata": {},
   "source": [
    "### PRESCRIPTIVE ANALYTICS\n",
    "\n",
    "While still the subject of debate, at least in terms of the formal definition, prescriptive analytics aim to combine the historical perspective of descriptive analytics with the forward looking perspective of predictive analytics and provide optimizations on the best alternatives for a decision objective.  Prescriptive analytics are where a DSS becomes fully realized, because it is with prescriptive analytics that the outcomes of _actions_ can be understood and analyzed, with the hope that such the _optimal_ action fully realizes the decision requirements set forth.  For example, given a set of real-world constraints prescriptive analytics provides a way to explore not only what is likely to happen, but also why it is likely to happen.  Armed with such information, organizations using prescriptive modalities can develop models of future events _factoring_ the outcomes and likely results of those outcomes that point to the path or paths that reach optimum results.\n",
    "\n",
    "In the diagram below, you can see the prescriptive analytics process and how it flows from predictive analytics.\n",
    "\n",
    "![Prescriptive Analytics Process](assets/prescriptive_analytics_overview.png)"
   ]
  },
  {
   "cell_type": "markdown",
   "metadata": {},
   "source": [
    "### FRAMEWORK\n",
    "\n",
    "The framework we will use to talk about analytics will require us to turn our attention back to the the three primary _architectural components_ of a BI system explored earlier.  As we learned before, a given system is compose of a series of data inputs which feed into a decision predicate processing subsystem which is responsible for collecting, storing and otherwise managing the inputs to any BI processing.  These systems are also commonly referred to as **knowledge management systems**, and are typically designed with the goal of facilitating the decision making process to the necessary stakeholders in the decision.  These systems are crucial for satisfying, among other things, the data requirements for appropriate storage, replication, data integrity, access control and archiving. \n",
    "\n",
    "Explore the table below to see how each architectural component (data, computation, human interfaces) contribute to the analytics workflow, computational tools provide the interpretation and manipulation of data across various computational tools, while human interfaces provide the tools for humans to visualize and manipulate information of interest. \n",
    "\n",
    "| -- | _Descriptive_ | _Predictive_ | _Prescriptive_ |\n",
    "|:--:|:-------------:|:------------:|:--------------:|\n",
    "|**data inputs / decision predicates** | prior and current data | prior and current data | prior and current data |\n",
    "|**computational tools** | basic descriptive statistics<br/>data aggregations<br/>clustering<br/>exploratory data analysis| regression models<br/>probabilistic models | linear and dynamic programming<br/>constraint satisfaction models |\n",
    "|**human interfaces** | dashboards | dashboards<br/>projections | dashboards<br/>what-if visualizations |"
   ]
  },
  {
   "cell_type": "markdown",
   "metadata": {},
   "source": [
    "** ADDITIONAL RESOURCES**\n",
    "* [Descriptive, Predictive, and Prescriptive Analytics Explained](https://halobi.com/2016/07/descriptive-predictive-and-prescriptive-analytics-explained/)\n",
    "* [Knowledge Management Systems]()\n"
   ]
  }
 ],
 "metadata": {
  "anaconda-cloud": {},
  "kernelspec": {
   "display_name": "Python [conda root]",
   "language": "python",
   "name": "conda-root-py"
  },
  "language_info": {
   "codemirror_mode": {
    "name": "ipython",
    "version": 2
   },
   "file_extension": ".py",
   "mimetype": "text/x-python",
   "name": "python",
   "nbconvert_exporter": "python",
   "pygments_lexer": "ipython2",
   "version": "2.7.12"
  },
  "toc": {
   "nav_menu": {
    "height": "179px",
    "width": "252px"
   },
   "navigate_menu": true,
   "number_sections": false,
   "sideBar": true,
   "threshold": 4,
   "toc_cell": false,
   "toc_section_display": "block",
   "toc_window_display": false
  }
 },
 "nbformat": 4,
 "nbformat_minor": 1
}
